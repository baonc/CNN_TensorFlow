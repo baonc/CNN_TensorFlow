{
 "cells": [
  {
   "cell_type": "code",
   "execution_count": 2,
   "metadata": {},
   "outputs": [
    {
     "name": "stderr",
     "output_type": "stream",
     "text": [
      "/Users/baonc/anaconda3/lib/python3.6/importlib/_bootstrap.py:205: RuntimeWarning: compiletime version 3.5 of module '_catboost' does not match runtime version 3.6\n",
      "  return f(*args, **kwds)\n"
     ]
    }
   ],
   "source": [
    "from catboost import CatBoostClassifier\n",
    "from tensorflow.examples.tutorials.mnist import input_data\n",
    "from sklearn.model_selection import train_test_split\n",
    "import numpy as np"
   ]
  },
  {
   "cell_type": "markdown",
   "metadata": {},
   "source": [
    "## Load input data"
   ]
  },
  {
   "cell_type": "code",
   "execution_count": 3,
   "metadata": {},
   "outputs": [
    {
     "name": "stdout",
     "output_type": "stream",
     "text": [
      "Extracting ./mnist/train-images-idx3-ubyte.gz\n",
      "Extracting ./mnist/train-labels-idx1-ubyte.gz\n",
      "Extracting ./mnist/t10k-images-idx3-ubyte.gz\n",
      "Extracting ./mnist/t10k-labels-idx1-ubyte.gz\n"
     ]
    }
   ],
   "source": [
    "mnist = input_data.read_data_sets('./mnist/', one_hot=False)"
   ]
  },
  {
   "cell_type": "markdown",
   "metadata": {},
   "source": [
    "## View data set"
   ]
  },
  {
   "cell_type": "code",
   "execution_count": 4,
   "metadata": {},
   "outputs": [
    {
     "name": "stdout",
     "output_type": "stream",
     "text": [
      "Total training instance: 55000\n",
      "Training features: [[ 0.  0.  0. ...,  0.  0.  0.]\n",
      " [ 0.  0.  0. ...,  0.  0.  0.]\n",
      " [ 0.  0.  0. ...,  0.  0.  0.]\n",
      " ..., \n",
      " [ 0.  0.  0. ...,  0.  0.  0.]\n",
      " [ 0.  0.  0. ...,  0.  0.  0.]\n",
      " [ 0.  0.  0. ...,  0.  0.  0.]]\n",
      "Training labels: [7 3 4 ..., 5 6 8]\n"
     ]
    }
   ],
   "source": [
    "print(\"Total training instance: {}\".format(mnist.train.num_examples))\n",
    "print(\"Training features: {}\".format(mnist.train.images))\n",
    "print(\"Training labels: {}\".format(np.transpose(mnist.train.labels)))"
   ]
  },
  {
   "cell_type": "markdown",
   "metadata": {},
   "source": [
    "## Using Catboost to classification"
   ]
  },
  {
   "cell_type": "markdown",
   "metadata": {},
   "source": [
    "* Training testing split"
   ]
  },
  {
   "cell_type": "code",
   "execution_count": 5,
   "metadata": {},
   "outputs": [
    {
     "name": "stdout",
     "output_type": "stream",
     "text": [
      "[7 3 4 ..., 5 6 8]\n"
     ]
    }
   ],
   "source": [
    "x_train = mnist.train.images\n",
    "y_train = np.transpose(mnist.train.labels)\n",
    "x_test = mnist.test.images\n",
    "y_test = np.transpose(mnist.test.labels)\n",
    "print(y_train)"
   ]
  },
  {
   "cell_type": "markdown",
   "metadata": {},
   "source": [
    "* Fit model"
   ]
  },
  {
   "cell_type": "code",
   "execution_count": null,
   "metadata": {
    "scrolled": true
   },
   "outputs": [
    {
     "name": "stdout",
     "output_type": "stream",
     "text": [
      "Borders generated\n",
      "0:\tlearn -2.176954882passed: 46.7 sec\ttotal: 49s\tremaining: 6h 47m 21s\n",
      "1:\tlearn -2.068805632passed: 52.2 sec\ttotal: 1m 41s\tremaining: 6h 59m 49s\n",
      "2:\tlearn -1.97440337passed: 48.6 sec\ttotal: 2m 29s\tremaining: 6h 53m 31s\n",
      "3:\tlearn -1.891631518passed: 43.6 sec\ttotal: 3m 13s\tremaining: 6h 39m 31s\n",
      "4:\tlearn -1.817405653passed: 51.4 sec\ttotal: 4m 4s\tremaining: 6h 43m 47s\n",
      "5:\tlearn -1.749703112passed: 51.8 sec\ttotal: 4m 56s\tremaining: 6h 46m 52s\n",
      "6:\tlearn -1.686168913passed: 51.9 sec\ttotal: 5m 48s\tremaining: 6h 48m 54s\n",
      "7:\tlearn -1.629061168passed: 48.7 sec\ttotal: 6m 37s\tremaining: 6h 47m 2s\n",
      "8:\tlearn -1.574642292passed: 51.6 sec\ttotal: 7m 28s\tremaining: 6h 47m 59s\n",
      "9:\tlearn -1.524136963passed: 51.4 sec\ttotal: 8m 20s\tremaining: 6h 48m 25s\n",
      "10:\tlearn -1.478107646passed: 51.3 sec\ttotal: 9m 11s\tremaining: 6h 48m 30s\n",
      "11:\tlearn -1.433376953passed: 48.1 sec\ttotal: 9m 59s\tremaining: 6h 46m 16s\n",
      "12:\tlearn -1.392217274passed: 50 sec\ttotal: 10m 49s\tremaining: 6h 45m 29s\n",
      "13:\tlearn -1.351716476passed: 45 sec\ttotal: 11m 34s\tremaining: 6h 41m 49s\n",
      "14:\tlearn -1.314118432passed: -6.41e+03 sec\ttotal: 213503982d 6h 26m 33s\tremaining: 213503980d 4h 41m 21s\n",
      "15:\tlearn -1.278725295passed: 52 sec\ttotal: 213503982d 6h 27m 25s\tremaining: 213503980d 8h 26m 4s\n",
      "16:\tlearn -1.246354936passed: 51.7 sec\ttotal: 213503982d 6h 28m 16s\tremaining: 213503980d 11h 44m 5s\n",
      "17:\tlearn -1.214556958passed: 49.8 sec\ttotal: 213503982d 6h 29m 6s\tremaining: 213503980d 14h 39m 9s\n",
      "18:\tlearn -1.184298223passed: 50.9 sec\ttotal: 213503982d 6h 29m 57s\tremaining: 213503980d 17h 16m 11s\n",
      "19:\tlearn -1.155169898passed: 46.4 sec\ttotal: 213503982d 6h 30m 44s\tremaining: 213503980d 19h 35m 36s\n",
      "20:\tlearn -1.128134981passed: 51.7 sec\ttotal: 213503982d 6h 31m 35s\tremaining: 213503980d 21h 43m 42s\n",
      "21:\tlearn -1.100678409passed: 51 sec\ttotal: 213503982d 6h 32m 26s\tremaining: 213503980d 23h 39m 49s\n",
      "22:\tlearn -1.075807326passed: 51.3 sec\ttotal: 213503982d 6h 33m 17s\tremaining: 213503981d 1h 25m 51s\n",
      "23:\tlearn -1.050345928passed: 53.9 sec\ttotal: 213503982d 6h 34m 11s\tremaining: 213503981d 3h 3m 52s\n",
      "24:\tlearn -1.027323582passed: 51.6 sec\ttotal: 213503982d 6h 35m 3s\tremaining: 213503981d 4h 33m 14s\n",
      "25:\tlearn -1.004841863passed: 45.3 sec\ttotal: 213503982d 6h 35m 48s\tremaining: 213503981d 5h 53m 46s\n",
      "26:\tlearn -0.9822101099passed: 50.2 sec\ttotal: 213503982d 6h 36m 39s\tremaining: 213503981d 7h 9m 41s\n",
      "27:\tlearn -0.9616341717passed: 45.7 sec\ttotal: 213503982d 6h 37m 24s\tremaining: 213503981d 8h 18m 52s\n",
      "28:\tlearn -0.941407363passed: 43.9 sec\ttotal: 213503982d 6h 38m 8s\tremaining: 213503981d 9h 22m 44s\n",
      "29:\tlearn -0.9220589401passed: 51.7 sec\ttotal: 213503982d 6h 39m\tremaining: 213503981d 10h 24m 20s\n",
      "30:\tlearn -0.9034885346passed: 48.7 sec\ttotal: 213503982d 6h 39m 49s\tremaining: 213503981d 11h 21m 8s\n",
      "31:\tlearn -0.8862860893passed: 50.2 sec\ttotal: 213503982d 6h 40m 39s\tremaining: 213503981d 12h 14m 42s\n",
      "32:\tlearn -0.8694635154passed: 51.6 sec\ttotal: 213503982d 6h 41m 30s\tremaining: 213503981d 13h 5m 19s\n",
      "33:\tlearn -0.8529185012passed: 53.8 sec\ttotal: 213503982d 6h 42m 24s\tremaining: 213503981d 13h 53m 23s\n",
      "34:\tlearn -0.8372696694passed: 45.4 sec\ttotal: 213503982d 6h 43m 10s\tremaining: 213503981d 14h 36m 48s\n",
      "35:\tlearn -0.821278434passed: 56.9 sec\ttotal: 213503982d 6h 44m 7s\tremaining: 213503981d 15h 20m 15s\n",
      "36:\tlearn -0.8058194622passed: 55.4 sec\ttotal: 213503982d 6h 45m 2s\tremaining: 213503981d 16h 58s\n",
      "37:\tlearn -0.7910621899passed: 52.2 sec\ttotal: 213503982d 6h 45m 54s\tremaining: 213503981d 16h 38m 51s\n",
      "38:\tlearn -0.7765986803passed: 54.3 sec\ttotal: 213503982d 6h 46m 48s\tremaining: 213503981d 17h 15m 10s\n",
      "39:\tlearn -0.7630939615passed: 56.2 sec\ttotal: 213503982d 6h 47m 45s\tremaining: 213503981d 17h 49m 59s\n",
      "40:\tlearn -0.749642899passed: 53 sec\ttotal: 213503982d 6h 48m 38s\tremaining: 213503981d 18h 22m 28s\n",
      "41:\tlearn -0.7364125192passed: 55.9 sec\ttotal: 213503982d 6h 49m 34s\tremaining: 213503981d 18h 53m 53s\n",
      "42:\tlearn -0.7236067028passed: 54.3 sec\ttotal: 213503982d 6h 50m 28s\tremaining: 213503981d 19h 23m 30s\n",
      "43:\tlearn -0.7120219008passed: 48.6 sec\ttotal: 213503982d 6h 51m 17s\tremaining: 213503981d 19h 50m 45s\n",
      "44:\tlearn -0.7004949824passed: 45.2 sec\ttotal: 213503982d 6h 52m 2s\tremaining: 213503981d 20h 16m 11s\n",
      "45:\tlearn -0.6888061739passed: 53 sec\ttotal: 213503982d 6h 52m 55s\tremaining: 213503981d 20h 41m 46s\n",
      "46:\tlearn -0.6774213356passed: 53.1 sec\ttotal: 213503982d 6h 53m 48s\tremaining: 213503981d 21h 6m 14s\n",
      "47:\tlearn -0.666187752passed: 43.7 sec\ttotal: 213503982d 6h 54m 32s\tremaining: 213503981d 21h 28m 9s\n",
      "48:\tlearn -0.6555144114passed: 43.4 sec\ttotal: 213503982d 6h 55m 15s\tremaining: 213503981d 21h 49m 7s\n",
      "49:\tlearn -0.6445022846passed: 52.5 sec\ttotal: 213503982d 6h 56m 7s\tremaining: 213503981d 22h 10m 34s\n",
      "50:\tlearn -0.6343446049passed: 44.1 sec\ttotal: 213503982d 6h 56m 51s\tremaining: 213503981d 22h 29m 55s\n",
      "51:\tlearn -0.6246743339passed: 44.9 sec\ttotal: 213503982d 6h 57m 36s\tremaining: 213503981d 22h 48m 37s\n",
      "52:\tlearn -0.6149894993passed: 52 sec\ttotal: 213503982d 6h 58m 28s\tremaining: 213503981d 23h 7m 34s\n",
      "53:\tlearn -0.6056278373passed: 47.7 sec\ttotal: 213503982d 6h 59m 16s\tremaining: 213503981d 23h 25m 12s\n",
      "54:\tlearn -0.5959952381passed: 55.5 sec\ttotal: 213503982d 7h 12s\tremaining: 213503981d 23h 43m 13s\n",
      "55:\tlearn -0.5871596884passed: 48 sec\ttotal: 213503982d 7h 1m\tremaining: 213503981d 23h 59m 34s\n",
      "56:\tlearn -0.5785509257passed: 48.2 sec\ttotal: 213503982d 7h 1m 48s\tremaining: 213503982d 15m 21s\n",
      "57:\tlearn -0.5704084721passed: 49.7 sec\ttotal: 213503982d 7h 2m 38s\tremaining: 213503982d 30m 44s\n",
      "58:\tlearn -0.5621118118passed: 46.1 sec\ttotal: 213503982d 7h 3m 24s\tremaining: 213503982d 45m 8s\n",
      "59:\tlearn -0.5540341262passed: 66.3 sec\ttotal: 213503982d 7h 4m 30s\tremaining: 213503982d 1h 1m 29s\n",
      "60:\tlearn -0.5456697578passed: 51.9 sec\ttotal: 213503982d 7h 5m 22s\tremaining: 213503982d 1h 15m 32s\n",
      "61:\tlearn -0.5381035016passed: 50.7 sec\ttotal: 213503982d 7h 6m 12s\tremaining: 213503982d 1h 28m 58s\n",
      "62:\tlearn -0.5304403419passed: 51.7 sec\ttotal: 213503982d 7h 7m 4s\tremaining: 213503982d 1h 42m 3s\n",
      "63:\tlearn -0.5228478822passed: 49.2 sec\ttotal: 213503982d 7h 7m 53s\tremaining: 213503982d 1h 54m 26s\n",
      "64:\tlearn -0.5160153107passed: 44.7 sec\ttotal: 213503982d 7h 8m 38s\tremaining: 213503982d 2h 5m 54s\n",
      "65:\tlearn -0.5089185847passed: 51.3 sec\ttotal: 213503982d 7h 9m 29s\tremaining: 213503982d 2h 17m 44s\n",
      "66:\tlearn -0.5027298023passed: 49.4 sec\ttotal: 213503982d 7h 10m 19s\tremaining: 213503982d 2h 28m 58s\n",
      "67:\tlearn -0.4960575245passed: 51.1 sec\ttotal: 213503982d 7h 11m 10s\tremaining: 213503982d 2h 40m 2s\n",
      "68:\tlearn -0.4898877014passed: 48.3 sec\ttotal: 213503982d 7h 11m 58s\tremaining: 213503982d 2h 50m 27s\n",
      "69:\tlearn -0.4835138022passed: 52 sec\ttotal: 213503982d 7h 12m 50s\tremaining: 213503982d 3h 56s\n",
      "70:\tlearn -0.4773398338passed: 50.2 sec\ttotal: 213503982d 7h 13m 40s\tremaining: 213503982d 3h 10m 55s\n",
      "71:\tlearn -0.4709604073passed: 49.7 sec\ttotal: 213503982d 7h 14m 30s\tremaining: 213503982d 3h 20m 34s\n",
      "72:\tlearn -0.4649928145passed: 54 sec\ttotal: 213503982d 7h 15m 24s\tremaining: 213503982d 3h 30m 20s\n",
      "73:\tlearn -0.458874959passed: 51.9 sec\ttotal: 213503982d 7h 16m 16s\tremaining: 213503982d 3h 39m 37s\n",
      "74:\tlearn -0.4532436279passed: 52.3 sec\ttotal: 213503982d 7h 17m 8s\tremaining: 213503982d 3h 48m 39s\n",
      "75:\tlearn -0.4477056728passed: 47.9 sec\ttotal: 213503982d 7h 17m 56s\tremaining: 213503982d 3h 57m 1s\n",
      "76:\tlearn -0.4421462472passed: 46.1 sec\ttotal: 213503982d 7h 18m 42s\tremaining: 213503982d 4h 4m 59s\n",
      "77:\tlearn -0.4366894519passed: 55.6 sec\ttotal: 213503982d 7h 19m 38s\tremaining: 213503982d 4h 13m 35s\n",
      "78:\tlearn -0.4316652619passed: 55.9 sec\ttotal: 213503982d 7h 20m 34s\tremaining: 213503982d 4h 21m 59s\n",
      "79:\tlearn -0.4265597178passed: 55.4 sec\ttotal: 213503982d 7h 21m 29s\tremaining: 213503982d 4h 30m 6s\n",
      "80:\tlearn -0.421435171passed: 54.8 sec\ttotal: 213503982d 7h 22m 24s\tremaining: 213503982d 4h 37m 56s\n",
      "81:\tlearn -0.4166693406passed: 50.2 sec\ttotal: 213503982d 7h 23m 14s\tremaining: 213503982d 4h 45m 10s\n",
      "82:\tlearn -0.4115188792passed: 46.4 sec\ttotal: 213503982d 7h 24m 1s\tremaining: 213503982d 4h 51m 53s\n",
      "83:\tlearn -0.4072686428passed: 58.7 sec\ttotal: 213503982d 7h 24m 59s\tremaining: 213503982d 4h 59m 26s\n",
      "84:\tlearn -0.4026339976passed: 57.2 sec\ttotal: 213503982d 7h 25m 57s\tremaining: 213503982d 5h 6m 40s\n"
     ]
    },
    {
     "name": "stdout",
     "output_type": "stream",
     "text": [
      "85:\tlearn -0.3977649481passed: 51.2 sec\ttotal: 213503982d 7h 26m 48s\tremaining: 213503982d 5h 13m 14s\n",
      "86:\tlearn -0.393559153passed: 50.6 sec\ttotal: 213503982d 7h 27m 38s\tremaining: 213503982d 5h 19m 34s\n",
      "87:\tlearn -0.3892847832passed: 47 sec\ttotal: 213503982d 7h 28m 25s\tremaining: 213503982d 5h 25m 28s\n",
      "88:\tlearn -0.3850799415passed: 56 sec\ttotal: 213503982d 7h 29m 21s\tremaining: 213503982d 5h 31m 55s\n",
      "89:\tlearn -0.3809885778passed: 53.2 sec\ttotal: 213503982d 7h 30m 15s\tremaining: 213503982d 5h 37m 59s\n",
      "90:\tlearn -0.3770986464passed: 52.8 sec\ttotal: 213503982d 7h 31m 7s\tremaining: 213503982d 5h 43m 52s\n",
      "91:\tlearn -0.3727089848passed: 47.4 sec\ttotal: 213503982d 7h 31m 55s\tremaining: 213503982d 5h 49m 12s\n",
      "92:\tlearn -0.3688133695passed: 54.1 sec\ttotal: 213503982d 7h 32m 49s\tremaining: 213503982d 5h 54m 53s\n",
      "93:\tlearn -0.3649401919passed: 47 sec\ttotal: 213503982d 7h 33m 36s\tremaining: 213503982d 5h 59m 56s\n",
      "94:\tlearn -0.3612772834passed: 54.1 sec\ttotal: 213503982d 7h 34m 30s\tremaining: 213503982d 6h 5m 21s\n",
      "95:\tlearn -0.3576957009passed: 52.2 sec\ttotal: 213503982d 7h 35m 22s\tremaining: 213503982d 6h 10m 31s\n",
      "96:\tlearn -0.3541305677passed: 53 sec\ttotal: 213503982d 7h 36m 15s\tremaining: 213503982d 6h 15m 36s\n",
      "97:\tlearn -0.3508545768passed: 47.4 sec\ttotal: 213503982d 7h 37m 2s\tremaining: 213503982d 6h 20m 11s\n",
      "98:\tlearn -0.3470626487passed: 45.6 sec\ttotal: 213503982d 7h 37m 48s\tremaining: 213503982d 6h 24m 32s\n",
      "99:\tlearn -0.3436970096passed: 49.7 sec\ttotal: 213503982d 7h 38m 38s\tremaining: 213503982d 6h 29m 4s\n",
      "100:\tlearn -0.34052722passed: 46.8 sec\ttotal: 213503982d 7h 39m 25s\tremaining: 213503982d 6h 33m 18s\n",
      "101:\tlearn -0.3372357915passed: 52 sec\ttotal: 213503982d 7h 40m 17s\tremaining: 213503982d 6h 37m 46s\n",
      "102:\tlearn -0.3337905485passed: 53 sec\ttotal: 213503982d 7h 41m 10s\tremaining: 213503982d 6h 42m 12s\n",
      "103:\tlearn -0.3309161963passed: 49.7 sec\ttotal: 213503982d 7h 41m 59s\tremaining: 213503982d 6h 46m 19s\n",
      "104:\tlearn -0.3275028559passed: 52.2 sec\ttotal: 213503982d 7h 42m 51s\tremaining: 213503982d 6h 50m 29s\n",
      "105:\tlearn -0.3240558671passed: 51.3 sec\ttotal: 213503982d 7h 43m 43s\tremaining: 213503982d 6h 54m 31s\n",
      "106:\tlearn -0.3209460659passed: 52.7 sec\ttotal: 213503982d 7h 44m 35s\tremaining: 213503982d 6h 58m 33s\n",
      "107:\tlearn -0.3182189158passed: 43.1 sec\ttotal: 213503982d 7h 45m 18s\tremaining: 213503982d 7h 1m 54s\n",
      "108:\tlearn -0.3154045555passed: 51.4 sec\ttotal: 213503982d 7h 46m 10s\tremaining: 213503982d 7h 5m 40s\n",
      "109:\tlearn -0.3127275213passed: 52.6 sec\ttotal: 213503982d 7h 47m 3s\tremaining: 213503982d 7h 9m 26s\n",
      "110:\tlearn -0.3095909557passed: 49.6 sec\ttotal: 213503982d 7h 47m 52s\tremaining: 213503982d 7h 12m 56s\n",
      "111:\tlearn -0.3065317881passed: 52.2 sec\ttotal: 213503982d 7h 48m 44s\tremaining: 213503982d 7h 16m 30s\n",
      "112:\tlearn -0.3036273659passed: 47.2 sec\ttotal: 213503982d 7h 49m 31s\tremaining: 213503982d 7h 19m 43s\n",
      "113:\tlearn -0.301059725passed: 52.6 sec\ttotal: 213503982d 7h 50m 24s\tremaining: 213503982d 7h 23m 10s\n",
      "114:\tlearn -0.298110214passed: 53.3 sec\ttotal: 213503982d 7h 51m 17s\tremaining: 213503982d 7h 26m 34s\n",
      "115:\tlearn -0.2956395424passed: 55.4 sec\ttotal: 213503982d 7h 52m 13s\tremaining: 213503982d 7h 30m 1s\n",
      "116:\tlearn -0.2930928923passed: 47.3 sec\ttotal: 213503982d 7h 53m\tremaining: 213503982d 7h 32m 57s\n",
      "117:\tlearn -0.2907417285passed: 44.7 sec\ttotal: 213503982d 7h 53m 45s\tremaining: 213503982d 7h 35m 41s\n",
      "118:\tlearn -0.2885430397passed: 49.5 sec\ttotal: 213503982d 7h 54m 34s\tremaining: 213503982d 7h 38m 37s\n",
      "119:\tlearn -0.2863555475passed: 50.1 sec\ttotal: 213503982d 7h 55m 24s\tremaining: 213503982d 7h 41m 31s\n",
      "120:\tlearn -0.2836491178passed: 54.4 sec\ttotal: 213503982d 7h 56m 19s\tremaining: 213503982d 7h 44m 35s\n",
      "121:\tlearn -0.2810494826passed: 48.9 sec\ttotal: 213503982d 7h 57m 8s\tremaining: 213503982d 7h 47m 17s\n",
      "122:\tlearn -0.2786088974passed: 52 sec\ttotal: 213503982d 7h 58m\tremaining: 213503982d 7h 50m 6s\n",
      "123:\tlearn -0.2765205133passed: 43.5 sec\ttotal: 213503982d 7h 58m 43s\tremaining: 213503982d 7h 52m 26s\n",
      "124:\tlearn -0.2742288751passed: 53.7 sec\ttotal: 213503982d 7h 59m 37s\tremaining: 213503982d 7h 55m 13s\n",
      "125:\tlearn -0.2720569386passed: 48.7 sec\ttotal: 213503982d 8h 26s\tremaining: 213503982d 7h 57m 41s\n",
      "126:\tlearn -0.2698973571passed: 49.1 sec\ttotal: 213503982d 8h 1m 15s\tremaining: 213503982d 8h 8s\n",
      "127:\tlearn -0.2678443761passed: 47.8 sec\ttotal: 13.5s\tremaining: 39.3s\n",
      "128:\tlearn -0.2653111441passed: 52.5 sec\ttotal: 1m 6s\tremaining: 3m 10s\n",
      "129:\tlearn -0.2632094707passed: 42.6 sec\ttotal: 1m 48s\tremaining: 5m 9s\n",
      "130:\tlearn -0.2609982742passed: 51 sec\ttotal: 2m 39s\tremaining: 7m 29s\n",
      "131:\tlearn -0.2587892243passed: 48 sec\ttotal: 3m 27s\tremaining: 9m 38s\n",
      "132:\tlearn -0.2567648572passed: 54.5 sec\ttotal: 4m 22s\tremaining: 12m 3s\n",
      "133:\tlearn -0.2550496348passed: 50.7 sec\ttotal: 5m 12s\tremaining: 14m 14s\n",
      "134:\tlearn -0.2529583559passed: 52.7 sec\ttotal: 6m 5s\tremaining: 16m 28s\n",
      "135:\tlearn -0.2510365148passed: 48 sec\ttotal: 6m 53s\tremaining: 18m 26s\n",
      "136:\tlearn -0.2488540194passed: 54.8 sec\ttotal: 7m 48s\tremaining: 20m 40s\n",
      "137:\tlearn -0.2468281952passed: 53.6 sec\ttotal: 8m 41s\tremaining: 22m 49s\n",
      "138:\tlearn -0.2447360857passed: 43 sec\ttotal: 9m 24s\tremaining: 24m 27s\n",
      "139:\tlearn -0.24286006passed: 43.7 sec\ttotal: 10m 8s\tremaining: 26m 5s\n",
      "140:\tlearn -0.2412011849passed: 46.3 sec\ttotal: 10m 54s\tremaining: 27m 47s\n",
      "141:\tlearn -0.2394662476passed: 50.3 sec\ttotal: 11m 45s\tremaining: 29m 38s\n",
      "142:\tlearn -0.2375217194passed: 48.8 sec\ttotal: 12m 34s\tremaining: 31m 22s\n",
      "143:\tlearn -0.2356151268passed: 45.1 sec\ttotal: 13m 19s\tremaining: 32m 55s\n",
      "144:\tlearn -0.2338034191passed: 51 sec\ttotal: 14m 10s\tremaining: 34m 41s\n",
      "145:\tlearn -0.2320923619passed: 53.6 sec\ttotal: 15m 3s\tremaining: 36m 31s\n",
      "146:\tlearn -0.2305875766passed: 49.9 sec\ttotal: 15m 53s\tremaining: 38m 10s\n",
      "147:\tlearn -0.2289062406passed: 52.1 sec\ttotal: 16m 45s\tremaining: 39m 52s\n",
      "148:\tlearn -0.2272306556passed: 52.4 sec\ttotal: 17m 38s\tremaining: 41m 32s\n",
      "149:\tlearn -0.2255687947passed: 40.8 sec\ttotal: 18m 19s\tremaining: 42m 44s\n",
      "150:\tlearn -0.2239123577passed: 47.4 sec\ttotal: 19m 6s\tremaining: 44m 9s\n",
      "151:\tlearn -0.2224494958passed: 50.3 sec\ttotal: 19m 56s\tremaining: 45m 39s\n",
      "152:\tlearn -0.2208302941passed: 49.3 sec\ttotal: 20m 46s\tremaining: 47m 5s\n",
      "153:\tlearn -0.2192442571passed: 51.2 sec\ttotal: 21m 37s\tremaining: 48m 34s\n",
      "154:\tlearn -0.2176989178passed: 51.6 sec\ttotal: 22m 28s\tremaining: 50m 2s\n",
      "155:\tlearn -0.2164473251passed: 49 sec\ttotal: 23m 17s\tremaining: 51m 22s\n",
      "156:\tlearn -0.2149844286passed: 40.8 sec\ttotal: 23m 58s\tremaining: 52m 23s\n",
      "157:\tlearn -0.2133173329passed: 44.4 sec\ttotal: 24m 43s\tremaining: 53m 30s\n",
      "158:\tlearn -0.2116823424passed: 53.2 sec\ttotal: 25m 36s\tremaining: 54m 54s\n",
      "159:\tlearn -0.2103405277passed: 51 sec\ttotal: 26m 27s\tremaining: 56m 12s\n",
      "160:\t"
     ]
    }
   ],
   "source": [
    "model = CatBoostClassifier(iterations=500, depth=10, loss_function='MultiClass', random_seed=42)\n",
    "model.fit(x_train, y_train, verbose=True)"
   ]
  },
  {
   "cell_type": "markdown",
   "metadata": {},
   "source": [
    "* Accuracy"
   ]
  },
  {
   "cell_type": "code",
   "execution_count": 7,
   "metadata": {},
   "outputs": [
    {
     "name": "stdout",
     "output_type": "stream",
     "text": [
      "[7 2 1 ..., 4 5 6]\n",
      "[7 2 1 ..., 4 5 6]\n",
      "Accuracy: 0.9402\n"
     ]
    }
   ],
   "source": [
    "\n",
    "pred_labels = model.predict(x_test)\n",
    "pred_labels = np.reshape(pred_labels, -1).astype(int)\n",
    "print(pred_labels)\n",
    "print(y_test)\n",
    "print(\"Accuracy: {}\".format(np.sum(pred_labels == y_test) / len(y_test)))"
   ]
  },
  {
   "cell_type": "markdown",
   "metadata": {},
   "source": [
    "* Check overfiting/underfiting"
   ]
  },
  {
   "cell_type": "code",
   "execution_count": 54,
   "metadata": {},
   "outputs": [
    {
     "name": "stdout",
     "output_type": "stream",
     "text": [
      "[9 3 4 ..., 5 0 8]\n",
      "[7 3 4 ..., 5 6 8]\n",
      "Accuracy: 0.8920181818181818\n"
     ]
    }
   ],
   "source": [
    "train_labels = model.predict(x_train)\n",
    "train_labels = np.reshape(train_labels, -1).astype(int)\n",
    "print(train_labels)\n",
    "print(y_train)\n",
    "print(\"Accuracy: {}\".format(np.sum(train_labels == y_train) / len(y_train)))"
   ]
  },
  {
   "cell_type": "code",
   "execution_count": null,
   "metadata": {
    "collapsed": true
   },
   "outputs": [],
   "source": []
  }
 ],
 "metadata": {
  "kernelspec": {
   "display_name": "Python 3",
   "language": "python",
   "name": "python3"
  },
  "language_info": {
   "codemirror_mode": {
    "name": "ipython",
    "version": 3
   },
   "file_extension": ".py",
   "mimetype": "text/x-python",
   "name": "python",
   "nbconvert_exporter": "python",
   "pygments_lexer": "ipython3",
   "version": "3.6.1"
  }
 },
 "nbformat": 4,
 "nbformat_minor": 2
}
